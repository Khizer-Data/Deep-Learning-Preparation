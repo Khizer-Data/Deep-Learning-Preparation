{
 "cells": [
  {
   "cell_type": "markdown",
   "metadata": {},
   "source": [
    "### Formula:\n",
    "\n",
    "Given inputs $x_1, x_2, ..., x_n$ and weights $w_1, w_2, ..., w_n$, the perceptron computes:\n",
    "\n",
    "$$\n",
    "y = \n",
    "\\begin{cases}\n",
    "1 & \\text{if } \\sum_{i=1}^{n} w_i x_i + b > 0 \\\\\n",
    "0 & \\text{otherwise}\n",
    "\\end{cases}\n",
    "$$"
   ]
  },
  {
   "cell_type": "markdown",
   "metadata": {},
   "source": [
    "# Simple Perceptron training (manual, but automated inside loop)"
   ]
  },
  {
   "cell_type": "code",
   "execution_count": 1,
   "metadata": {},
   "outputs": [],
   "source": [
    "x = [1, 0]           # input\n",
    "y_true = 1           # true label\n",
    "w = [0.2, -0.1]      # initial weights\n",
    "b = 0.0              # bias\n",
    "eta = 0.1            # learning rate"
   ]
  },
  {
   "cell_type": "markdown",
   "metadata": {},
   "source": [
    "# Prediction"
   ]
  },
  {
   "cell_type": "code",
   "execution_count": 2,
   "metadata": {},
   "outputs": [],
   "source": [
    "z = w[0]*x[0] + w[1]*x[1] + b\n",
    "y_pred = 1 if z > 0 else 0"
   ]
  },
  {
   "cell_type": "markdown",
   "metadata": {},
   "source": [
    "# Update if wrong"
   ]
  },
  {
   "cell_type": "code",
   "execution_count": 4,
   "metadata": {},
   "outputs": [
    {
     "name": "stdout",
     "output_type": "stream",
     "text": [
      "Updated weights: [0.2, -0.1]\n",
      "Updated bias: 0.0\n",
      "Predicted class: 1\n"
     ]
    }
   ],
   "source": [
    "if y_pred != y_true:\n",
    "    for i in range(len(w)):\n",
    "        w[i] += eta * (y_true - y_pred) * x[i]\n",
    "    b += eta * (y_true - y_pred)\n",
    "\n",
    "print(\"Updated weights:\", w)\n",
    "print(\"Updated bias:\", b)\n",
    "print(\"Predicted class:\", y_pred)"
   ]
  }
 ],
 "metadata": {
  "kernelspec": {
   "display_name": "Python 3",
   "language": "python",
   "name": "python3"
  },
  "language_info": {
   "codemirror_mode": {
    "name": "ipython",
    "version": 3
   },
   "file_extension": ".py",
   "mimetype": "text/x-python",
   "name": "python",
   "nbconvert_exporter": "python",
   "pygments_lexer": "ipython3",
   "version": "3.12.6"
  }
 },
 "nbformat": 4,
 "nbformat_minor": 2
}
